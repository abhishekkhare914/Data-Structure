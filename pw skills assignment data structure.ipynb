{
 "cells": [
  {
   "cell_type": "code",
   "execution_count": 2,
   "id": "d7c0656c-c981-496a-8095-81e3747cffd9",
   "metadata": {},
   "outputs": [
    {
     "ename": "SyntaxError",
     "evalue": "invalid syntax (918714771.py, line 3)",
     "output_type": "error",
     "traceback": [
      "  \u001b[36mCell\u001b[39m\u001b[36m \u001b[39m\u001b[32mIn[2]\u001b[39m\u001b[32m, line 3\u001b[39m\n\u001b[31m    \u001b[39m\u001b[31m--Data structures are ways of organizing and storing data so that it can be accessed and modified efficiently.In Python, they are crucial because they help in writing clean, optimized, and scalable code for solving various types of problems.\u001b[39m\n           ^\n\u001b[31mSyntaxError\u001b[39m\u001b[31m:\u001b[39m invalid syntax\n"
     ]
    }
   ],
   "source": [
    "## THEORATICAL QUESTIONS\n",
    "\n",
    "# Ques 1- What are data structures, and why are they important ?\n",
    "\n",
    "# Ans 1 -Data structures are ways of organizing and storing data so that it can be accessed and modified efficiently.\n",
    "#In Python, they are crucial because they help in writing clean, optimized, and scalable code for solving various types of problems."
   ]
  },
  {
   "cell_type": "code",
   "execution_count": 8,
   "id": "bdf854d6-5e2e-4dbd-92a4-581078e4c9c3",
   "metadata": {},
   "outputs": [
    {
     "name": "stdout",
     "output_type": "stream",
     "text": [
      "Alice Smith\n",
      "[1, 2, 3]\n",
      "[1, 2, 3, 4]\n"
     ]
    }
   ],
   "source": [
    "# Ques 2-  Explain the difference between mutable and immutable data types with examples ?\n",
    "\n",
    "\n",
    "# Ans 2- list,dict,set are mutable while int,float,str,tuple are immutable in python.\n",
    "\n",
    "# example of immutable data type\n",
    "name = \"Alice\"\n",
    "name = name + \" Smith\"\n",
    "print(name)  # Output: Alice Smith\n",
    "\n",
    "# example of mutable data type\n",
    "x = [1, 2, 3]\n",
    "print(x)\n",
    "x.append(4)\n",
    "print(x)  # Output: [1, 2, 3, 4]\n"
   ]
  },
  {
   "cell_type": "code",
   "execution_count": 1,
   "id": "d5f73242-d07c-47d6-8362-14e63250517b",
   "metadata": {},
   "outputs": [
    {
     "name": "stdout",
     "output_type": "stream",
     "text": [
      "Abhishek Khare\n"
     ]
    }
   ],
   "source": [
    "# Ques 3-What are the main differences between lists and tuples in Python ?\n",
    "\n",
    "# Ans 3-list are mutable while tuples are immutable."
   ]
  },
  {
   "cell_type": "code",
   "execution_count": 1,
   "id": "46fb1797-9e65-4e4d-825e-c75b6e0da80e",
   "metadata": {},
   "outputs": [
    {
     "name": "stdout",
     "output_type": "stream",
     "text": [
      "Abhishek Khare\n"
     ]
    }
   ],
   "source": [
    "# Ques 4-  Describe how dictionaries store data ?\n",
    "\n",
    "# Ans 4 - Dictionaries are unordered collections of data and are represented with curly brackets { } .\n",
    "#     Like lists, dictionaries are mutable(changeable) and indexed. With dictionaries, data is stored in a key:value format\n"
   ]
  },
  {
   "cell_type": "code",
   "execution_count": 1,
   "id": "681d0de0-fadb-4fc2-8914-27ab765af467",
   "metadata": {},
   "outputs": [
    {
     "name": "stdout",
     "output_type": "stream",
     "text": [
      "Abhishek Khare\n"
     ]
    }
   ],
   "source": [
    "# Ques 5- Why might you use a set instead of a list in Python ?\n",
    "\n",
    "# Ans 5- A set in Python is an unordered collection of unique elements, while a list is an ordered collection that can contain duplicates.\n",
    "#       Memory efficiency and smooth functioning of operations is the reason to use set instead of list in python."
   ]
  },
  {
   "cell_type": "code",
   "execution_count": 1,
   "id": "f095c7c2-dcbf-4fe2-b292-911ae0c62f0f",
   "metadata": {},
   "outputs": [
    {
     "name": "stdout",
     "output_type": "stream",
     "text": [
      "Abhishek Khare\n"
     ]
    }
   ],
   "source": [
    "# Ques 6- What is a string in Python, and how is it different from a list ?\n",
    "\n",
    "#Ans 6- A string is a sequence of characters between single or double quotes. A list is a sequence of items, \n",
    "#       where each item could be anything (int,float or str).\n"
   ]
  },
  {
   "cell_type": "code",
   "execution_count": 1,
   "id": "ab715d40-92e2-432f-b0dc-3f9066fb1160",
   "metadata": {},
   "outputs": [
    {
     "name": "stdout",
     "output_type": "stream",
     "text": [
      "Abhishek Khare\n"
     ]
    }
   ],
   "source": [
    "# Ques 7- How do tuples ensure data integrity in Python ?\n",
    "\n",
    "# Ans 7- Tuples in Python ensure data integrity through their immutability. Once a tuple is created, its elements cannot be modified, added, or removed. \n"
   ]
  },
  {
   "cell_type": "code",
   "execution_count": 1,
   "id": "715ce39a-a440-4086-9c11-4b0430f46eee",
   "metadata": {},
   "outputs": [
    {
     "name": "stdout",
     "output_type": "stream",
     "text": [
      "Abhishek Khare\n"
     ]
    }
   ],
   "source": [
    "# Ques 8- What is a hash table, and how does it relate to dictionaries in Python ?\n",
    "\n",
    "# Ans 8-  A hash table is a data structure that stores key-value pairs and dictionaries are implemented using hash tables.\n"
   ]
  },
  {
   "cell_type": "code",
   "execution_count": 1,
   "id": "34adc177-1c27-4ba4-a7eb-0dc31b1e07ff",
   "metadata": {},
   "outputs": [
    {
     "name": "stdout",
     "output_type": "stream",
     "text": [
      "Abhishek Khare\n"
     ]
    }
   ],
   "source": [
    "# Ques 9-Can lists contain different data types in Python ?\n",
    "\n",
    "# Ans 9- Yes, lists in Python are designed to accommodate elements of different data types such as int,boolean,float,str,list,tuple amd dictioneries."
   ]
  },
  {
   "cell_type": "code",
   "execution_count": 1,
   "id": "29f35181-0ae2-4a85-8712-006e6d9b560d",
   "metadata": {},
   "outputs": [
    {
     "name": "stdout",
     "output_type": "stream",
     "text": [
      "Abhishek Khare\n"
     ]
    }
   ],
   "source": [
    "# Ques 10-  Explain why strings are immutable in Python ?\n",
    "\n",
    "# Ans 10 -  Strings are immutable de to its effeciency and pedictibility as an string can be always an string for life time.\n"
   ]
  },
  {
   "cell_type": "code",
   "execution_count": 1,
   "id": "58382dbc-4515-408b-aea3-3733de0e7fa8",
   "metadata": {},
   "outputs": [
    {
     "name": "stdout",
     "output_type": "stream",
     "text": [
      "Abhishek Khare\n"
     ]
    }
   ],
   "source": [
    "# Ques 11- What advantages do dictionaries offer over lists for certain tasks ?\n",
    "\n",
    "# Ans 11- Dictionaries in Python offer fast data retrieval: while lists where you have to traverse through each element to find a value,\n",
    "#         dictionaries use hash tables for quick access to values based on keys.\n",
    "\n"
   ]
  },
  {
   "cell_type": "code",
   "execution_count": 1,
   "id": "2876274d-14cc-47a9-a44f-7d2d435f514e",
   "metadata": {},
   "outputs": [
    {
     "name": "stdout",
     "output_type": "stream",
     "text": [
      "Abhishek Khare\n"
     ]
    }
   ],
   "source": [
    "# Ques 12-  Describe a scenario where using a tuple would be preferable over a list ?\n",
    "\n",
    "# Ans 12 - A scenario where a tuple would be preferable over a list in Python are inherently fixed and should not be modified after creation."
   ]
  },
  {
   "cell_type": "code",
   "execution_count": 1,
   "id": "35d5ff06-3b83-49b5-86e7-bf16f8a912e0",
   "metadata": {},
   "outputs": [
    {
     "name": "stdout",
     "output_type": "stream",
     "text": [
      "Abhishek Khare\n"
     ]
    }
   ],
   "source": [
    "# Ques 13-  How do sets handle duplicate values in Python ?\n",
    "\n",
    "# Ans 13 -  sets are designed to store only unique elements. When attempting to add a duplicate value to a set, it is automatically ignored,\n",
    "#           and the set remains unchanged."
   ]
  },
  {
   "cell_type": "code",
   "execution_count": 1,
   "id": "cfc12ffe-e501-499f-b31c-6b44213cd8c5",
   "metadata": {},
   "outputs": [
    {
     "name": "stdout",
     "output_type": "stream",
     "text": [
      "Abhishek Khare\n"
     ]
    }
   ],
   "source": [
    " # Ques 14-  Describe a scenario where using a tuple would be preferable over a list ?\n",
    "\n",
    "# Ans 14 - in operation for the dictionary tests on keys. The key of the dictionary is a unique value as well as the set,\n",
    "#          dictionary values can be duplicated like a list."
   ]
  },
  {
   "cell_type": "code",
   "execution_count": 1,
   "id": "0f3b6ebc-9dc9-422b-a732-f31f76e907fd",
   "metadata": {},
   "outputs": [
    {
     "name": "stdout",
     "output_type": "stream",
     "text": [
      "Abhishek Khare\n"
     ]
    }
   ],
   "source": [
    "# Ques 15-  Can you modify the elements of a tuple? Explain why or why not ?\n",
    "\n",
    "# Ans 15 - we cant modify the elelments of a tuple, as tuples are immutable data structures."
   ]
  },
  {
   "cell_type": "code",
   "execution_count": 10,
   "id": "a43a537b-e9e7-4d28-9e02-21974246c149",
   "metadata": {},
   "outputs": [
    {
     "ename": "SyntaxError",
     "evalue": "invalid syntax (1714750515.py, line 5)",
     "output_type": "error",
     "traceback": [
      "  \u001b[36mCell\u001b[39m\u001b[36m \u001b[39m\u001b[32mIn[10]\u001b[39m\u001b[32m, line 5\u001b[39m\n\u001b[31m    \u001b[39m\u001b[31mdist1= {10,20,\"name\":\"abhishek\",\"age\":40,{\"name\":\"khare\",\"age\":39}}\u001b[39m\n                        ^\n\u001b[31mSyntaxError\u001b[39m\u001b[31m:\u001b[39m invalid syntax\n"
     ]
    }
   ],
   "source": [
    "# Ques 16-   What is a nested dictionary, and give an example of its use case ?\n",
    "\n",
    "# Ans 16 -   a dictionary where the values are themselves dictionaries such as\n",
    "\n",
    "dist1= {10,20,\"name\":\"abhishek\",\"age\":40,{\"name\":\"khare\",\"age\":39}}"
   ]
  },
  {
   "cell_type": "code",
   "execution_count": 1,
   "id": "4c4faa38-4a11-4a5d-9fd1-e2fc6ed8a0ef",
   "metadata": {},
   "outputs": [
    {
     "name": "stdout",
     "output_type": "stream",
     "text": [
      "Abhishek Khare\n"
     ]
    }
   ],
   "source": [
    "# Ques 17-  Describe the time complexity of accessing elements in a dictionary ?\n",
    "\n",
    "# Ans 17 - no idea"
   ]
  },
  {
   "cell_type": "code",
   "execution_count": 1,
   "id": "2a30e320-e313-4e75-ab30-ba06973ccf90",
   "metadata": {},
   "outputs": [
    {
     "name": "stdout",
     "output_type": "stream",
     "text": [
      "Abhishek Khare\n"
     ]
    }
   ],
   "source": [
    "# Ques 18-   In what situations are lists preferred over dictionaries ?\n",
    "\n",
    "# Ans 18 - For quick data look-ups, configurations favor dictionaries. For ordered collections and sequence operations,\n",
    "#          such as maintaining a stack or queue, lists are more suitable."
   ]
  },
  {
   "cell_type": "code",
   "execution_count": 1,
   "id": "14043911-5aa1-4d0c-b986-a26573769248",
   "metadata": {},
   "outputs": [
    {
     "name": "stdout",
     "output_type": "stream",
     "text": [
      "Abhishek Khare\n"
     ]
    }
   ],
   "source": [
    "# Ques 19-  Why are dictionaries considered unordered, and how does that affect data retrieval ?\n",
    "\n",
    "# Ans 19 - A dictionary is termed an unordered collection of objects because \n",
    "#         dictionaries do not maintain any  order of the items based on when they were added."
   ]
  },
  {
   "cell_type": "code",
   "execution_count": 1,
   "id": "c7fd436d-ae1d-4afe-9aa2-121e83eec579",
   "metadata": {},
   "outputs": [
    {
     "name": "stdout",
     "output_type": "stream",
     "text": [
      "Abhishek Khare\n"
     ]
    }
   ],
   "source": [
    "# Ques 20-   Explain the difference between a list and a dictionary in terms of data retrieval ?\n",
    "\n",
    "# Ans 20 -  a dictionary excels at fast lookups by key, while a list is better suited for sequential access by index."
   ]
  },
  {
   "cell_type": "code",
   "execution_count": 1,
   "id": "5166613d-87c1-463b-83f6-df3c6f38bbc2",
   "metadata": {},
   "outputs": [
    {
     "name": "stdout",
     "output_type": "stream",
     "text": [
      "Abhishek Khare\n"
     ]
    }
   ],
   "source": [
    "# PRACTICAL ANSWERS \n",
    "\n",
    "#Practical Answers 1\n",
    "\n",
    "print(\"Abhishek Khare\")"
   ]
  },
  {
   "cell_type": "code",
   "execution_count": 2,
   "id": "ee79a420-9cd2-4eeb-96d9-96fe6078a6d4",
   "metadata": {},
   "outputs": [
    {
     "data": {
      "text/plain": [
       "11"
      ]
     },
     "execution_count": 2,
     "metadata": {},
     "output_type": "execute_result"
    }
   ],
   "source": [
    "\n",
    "#Practical Answers 2\n",
    "len (\"hello world\")"
   ]
  },
  {
   "cell_type": "code",
   "execution_count": 3,
   "id": "86ca2d78-5c39-4a6f-8984-f9b37823c73e",
   "metadata": {},
   "outputs": [
    {
     "name": "stdout",
     "output_type": "stream",
     "text": [
      "pyt\n"
     ]
    }
   ],
   "source": [
    "\n",
    "#Practical Answers 3\n",
    "my_string= \"python programming\"\n",
    "print (my_string[0:3])"
   ]
  },
  {
   "cell_type": "code",
   "execution_count": 4,
   "id": "3cda20bd-c903-48fd-9fad-1cc38cc80eb0",
   "metadata": {},
   "outputs": [
    {
     "name": "stdout",
     "output_type": "stream",
     "text": [
      "HELLO\n"
     ]
    }
   ],
   "source": [
    "\n",
    "#Practical Answers 4\n",
    "my_string= \"hello\"\n",
    "print(my_string.upper())"
   ]
  },
  {
   "cell_type": "code",
   "execution_count": 5,
   "id": "68bf4fea-e201-4bdc-9a90-672990bf907b",
   "metadata": {},
   "outputs": [
    {
     "name": "stdout",
     "output_type": "stream",
     "text": [
      "I like orange\n"
     ]
    }
   ],
   "source": [
    "\n",
    "#Practical Answers 5\n",
    "my_string= \"I like apple\"\n",
    "print (my_string.replace(\"apple\",\"orange\"))"
   ]
  },
  {
   "cell_type": "code",
   "execution_count": 6,
   "id": "e838403a-a671-4bb2-8df5-b213185a4931",
   "metadata": {},
   "outputs": [
    {
     "name": "stdout",
     "output_type": "stream",
     "text": [
      "[1, 2, 3, 4, 5]\n"
     ]
    }
   ],
   "source": [
    "\n",
    "#Practical Answers 6\n",
    "my_list= [1,2,3,4,5]\n",
    "print(my_list)"
   ]
  },
  {
   "cell_type": "code",
   "execution_count": 7,
   "id": "937c1ebc-ec1b-4ac8-82b2-9895280f848a",
   "metadata": {},
   "outputs": [
    {
     "name": "stdout",
     "output_type": "stream",
     "text": [
      "[1, 2, 3, 4, 10]\n"
     ]
    }
   ],
   "source": [
    "\n",
    "#Practical Answers 7\n",
    "my_list= [1,2,3,4]\n",
    "my_list.append(10)\n",
    "print (my_list)"
   ]
  },
  {
   "cell_type": "code",
   "execution_count": 8,
   "id": "971e2ca4-4848-41f5-ac6d-e6196e25deba",
   "metadata": {},
   "outputs": [
    {
     "name": "stdout",
     "output_type": "stream",
     "text": [
      "[1, 2, 4, 5]\n"
     ]
    }
   ],
   "source": [
    "\n",
    "#Practical Answers 8\n",
    "a= [1,2,3,4,5]\n",
    "a.remove(3)\n",
    "print(a)"
   ]
  },
  {
   "cell_type": "code",
   "execution_count": 9,
   "id": "3cf01fb2-6aa2-45db-b291-935665f096ee",
   "metadata": {},
   "outputs": [
    {
     "ename": "TypeError",
     "evalue": "'builtin_function_or_method' object is not subscriptable",
     "output_type": "error",
     "traceback": [
      "\u001b[31m---------------------------------------------------------------------------\u001b[39m",
      "\u001b[31mTypeError\u001b[39m                                 Traceback (most recent call last)",
      "\u001b[36mCell\u001b[39m\u001b[36m \u001b[39m\u001b[32mIn[9]\u001b[39m\u001b[32m, line 2\u001b[39m\n\u001b[32m      1\u001b[39m a= [\u001b[33m'\u001b[39m\u001b[33ma\u001b[39m\u001b[33m'\u001b[39m,\u001b[33m'\u001b[39m\u001b[33mb\u001b[39m\u001b[33m'\u001b[39m,\u001b[33m'\u001b[39m\u001b[33mc\u001b[39m\u001b[33m'\u001b[39m,\u001b[33m'\u001b[39m\u001b[33md\u001b[39m\u001b[33m'\u001b[39m]\n\u001b[32m----> \u001b[39m\u001b[32m2\u001b[39m \u001b[43ma\u001b[49m\u001b[43m.\u001b[49m\u001b[43mindex\u001b[49m\u001b[43m[\u001b[49m\u001b[32;43m1\u001b[39;49m\u001b[43m]\u001b[49m\n\u001b[32m      3\u001b[39m \u001b[38;5;28mprint\u001b[39m(a)\n",
      "\u001b[31mTypeError\u001b[39m: 'builtin_function_or_method' object is not subscriptable"
     ]
    }
   ],
   "source": [
    "\n",
    "#Practical Answers 9\n",
    "a= ['a','b','c','d']\n",
    "a.index[1]\n",
    "print(a)"
   ]
  },
  {
   "cell_type": "code",
   "execution_count": 10,
   "id": "d0e16dda-2679-4f57-9ff3-16d3a5ce62c3",
   "metadata": {},
   "outputs": [
    {
     "name": "stdout",
     "output_type": "stream",
     "text": [
      "[50, 40, 30, 20, 10]\n"
     ]
    }
   ],
   "source": [
    "\n",
    "#Practical Answers 10\n",
    "a= [10,20,30,40,50]\n",
    "a.reverse()\n",
    "print(a)"
   ]
  },
  {
   "cell_type": "code",
   "execution_count": 11,
   "id": "35bac6b4-853c-4ea2-8e99-e41400faf6e5",
   "metadata": {},
   "outputs": [
    {
     "name": "stdout",
     "output_type": "stream",
     "text": [
      "(100, 200, 300)\n"
     ]
    },
    {
     "data": {
      "text/plain": [
       "tuple"
      ]
     },
     "execution_count": 11,
     "metadata": {},
     "output_type": "execute_result"
    }
   ],
   "source": [
    "\n",
    "#Practical Answers 11\n",
    "my_tuple=(100,200,300)\n",
    "print(my_tuple)\n",
    "type(my_tuple)"
   ]
  },
  {
   "cell_type": "code",
   "execution_count": 14,
   "id": "0e6f568a-c1d2-48f5-8e7b-b1dc5aa7e3a6",
   "metadata": {},
   "outputs": [
    {
     "ename": "TypeError",
     "evalue": "'builtin_function_or_method' object is not subscriptable",
     "output_type": "error",
     "traceback": [
      "\u001b[31m---------------------------------------------------------------------------\u001b[39m",
      "\u001b[31mTypeError\u001b[39m                                 Traceback (most recent call last)",
      "\u001b[36mCell\u001b[39m\u001b[36m \u001b[39m\u001b[32mIn[14]\u001b[39m\u001b[32m, line 2\u001b[39m\n\u001b[32m      1\u001b[39m a= (\u001b[33m'\u001b[39m\u001b[33mred\u001b[39m\u001b[33m'\u001b[39m,\u001b[33m'\u001b[39m\u001b[33mgreen\u001b[39m\u001b[33m'\u001b[39m,\u001b[33m'\u001b[39m\u001b[33mblue\u001b[39m\u001b[33m'\u001b[39m,\u001b[33m'\u001b[39m\u001b[33myellow\u001b[39m\u001b[33m'\u001b[39m)\n\u001b[32m----> \u001b[39m\u001b[32m2\u001b[39m \u001b[43ma\u001b[49m\u001b[43m.\u001b[49m\u001b[43mindex\u001b[49m\u001b[43m[\u001b[49m\u001b[32;43m1\u001b[39;49m\u001b[43m]\u001b[49m\n\u001b[32m      3\u001b[39m \u001b[38;5;28mprint\u001b[39m(a)\n",
      "\u001b[31mTypeError\u001b[39m: 'builtin_function_or_method' object is not subscriptable"
     ]
    }
   ],
   "source": [
    "\n",
    "#Practical Answers 12\n",
    "a= ('red','green','blue','yellow')\n",
    "a.index[1]\n",
    "print(a)"
   ]
  },
  {
   "cell_type": "code",
   "execution_count": 15,
   "id": "cd1f182d-f3cb-4383-a71a-115369164e36",
   "metadata": {},
   "outputs": [
    {
     "name": "stdout",
     "output_type": "stream",
     "text": [
      "min number: 6\n"
     ]
    }
   ],
   "source": [
    "\n",
    "#Practical Answers 13\n",
    "a=(10,20,6,15)\n",
    "print(\"min number:\",min(a))"
   ]
  },
  {
   "cell_type": "code",
   "execution_count": 16,
   "id": "48b69b61-2e9d-4132-b3ed-e44f50b63c40",
   "metadata": {},
   "outputs": [
    {
     "name": "stdout",
     "output_type": "stream",
     "text": [
      "1\n"
     ]
    }
   ],
   "source": [
    "\n",
    "#Practical Answers 14\n",
    "a=(\"dog\",\"cat\",\"rabbit\")\n",
    "print(a.index(\"cat\"))"
   ]
  },
  {
   "cell_type": "code",
   "execution_count": 17,
   "id": "f49babe3-8ebb-4fca-8d03-7d874dffa905",
   "metadata": {},
   "outputs": [
    {
     "name": "stdout",
     "output_type": "stream",
     "text": [
      "('apple', 'kiwi', 'orange')\n"
     ]
    }
   ],
   "source": [
    "\n",
    "#Practical Answers 15\n",
    "my_tuple=(\"apple\",\"kiwi\",\"orange\")\n",
    "print(my_tuple)"
   ]
  },
  {
   "cell_type": "code",
   "execution_count": 18,
   "id": "2155ffd4-92ae-4fa2-a4d6-0a94b78871bd",
   "metadata": {},
   "outputs": [
    {
     "name": "stdout",
     "output_type": "stream",
     "text": [
      "{'b', 'c', 'a'}\n"
     ]
    }
   ],
   "source": [
    "\n",
    "#Practical Answers 16\n",
    "s={\"a\",\"b\",\"c\"}\n",
    "print(s)"
   ]
  },
  {
   "cell_type": "code",
   "execution_count": 19,
   "id": "49f7caa3-1e86-4836-839e-d751b0662e24",
   "metadata": {},
   "outputs": [
    {
     "name": "stdout",
     "output_type": "stream",
     "text": [
      "set()\n"
     ]
    }
   ],
   "source": [
    "\n",
    "#Practical Answers 17\n",
    "a={1,2,3,4,5}\n",
    "a.clear()\n",
    "print(a)"
   ]
  },
  {
   "cell_type": "code",
   "execution_count": 20,
   "id": "5d45e88e-2608-4683-94ed-aafd02ada155",
   "metadata": {},
   "outputs": [
    {
     "name": "stdout",
     "output_type": "stream",
     "text": [
      "{1, 2, 4}\n"
     ]
    }
   ],
   "source": [
    "\n",
    "#Practical Answers 18\n",
    "a={1,2,3,4}\n",
    "a.remove(3)\n",
    "print(a)"
   ]
  },
  {
   "cell_type": "code",
   "execution_count": 21,
   "id": "55c3e267-5017-427a-9d30-32525628d786",
   "metadata": {},
   "outputs": [
    {
     "name": "stdout",
     "output_type": "stream",
     "text": [
      "{1, 2, 3, 4, 5}\n"
     ]
    }
   ],
   "source": [
    "\n",
    "#Practical Answers 19\n",
    "a={1,2,3}\n",
    "b={3,4,5}\n",
    "print(a|b)"
   ]
  },
  {
   "cell_type": "code",
   "execution_count": 22,
   "id": "9df2178b-a21f-4e59-94d0-b3f291393487",
   "metadata": {},
   "outputs": [
    {
     "name": "stdout",
     "output_type": "stream",
     "text": [
      "{2, 3}\n"
     ]
    }
   ],
   "source": [
    "\n",
    "#Practical Answers 20\n",
    "a={1,2,3}\n",
    "b={2,3,4}\n",
    "print(a & b)"
   ]
  },
  {
   "cell_type": "code",
   "execution_count": 23,
   "id": "060d6a3c-926c-426d-8851-6f9792a85b30",
   "metadata": {},
   "outputs": [
    {
     "name": "stdout",
     "output_type": "stream",
     "text": [
      "{'city', 'name', 'age'}\n"
     ]
    }
   ],
   "source": [
    "\n",
    "#Practical Answers 21\n",
    "a={\"name\",\"age\",\"city\"}\n",
    "print(a)"
   ]
  },
  {
   "cell_type": "code",
   "execution_count": 24,
   "id": "7c98abc1-2e8d-4fe8-a616-4284d4dbd2ef",
   "metadata": {},
   "outputs": [
    {
     "name": "stdout",
     "output_type": "stream",
     "text": [
      "{'city', 'age:25', 'name:john', 'country:USA'}\n"
     ]
    }
   ],
   "source": [
    "\n",
    "#Practical Answers 22\n",
    "a={\"name:john\",\"age:25\",\"city\"}\n",
    "a.update({\"country:USA\"})\n",
    "print(a)"
   ]
  },
  {
   "cell_type": "code",
   "execution_count": 25,
   "id": "f08ce57e-ff99-44db-81cc-112a4b897cfd",
   "metadata": {},
   "outputs": [
    {
     "data": {
      "text/plain": [
       "'Alice'"
      ]
     },
     "execution_count": 25,
     "metadata": {},
     "output_type": "execute_result"
    }
   ],
   "source": [
    "\n",
    "#Practical Answers 23\n",
    "dict1={\"name\":\"Alice\",\"age\":30}\n",
    "dict1.get(\"name\")"
   ]
  },
  {
   "cell_type": "code",
   "execution_count": 26,
   "id": "5b72910b-a5a8-412d-93c1-c918934b5245",
   "metadata": {},
   "outputs": [
    {
     "name": "stdout",
     "output_type": "stream",
     "text": [
      "{'name': 'Bob', 'city': 'New york'}\n"
     ]
    }
   ],
   "source": [
    "\n",
    "#Practical Answers 24\n",
    "dict2={\"name\":\"Bob\",\"age\":22,\"city\":\"New york\"}\n",
    "dict2.pop(\"age\",None)\n",
    "print(dict2)"
   ]
  },
  {
   "cell_type": "code",
   "execution_count": 27,
   "id": "3d80a394-33b0-4f60-9c67-658941c9516b",
   "metadata": {},
   "outputs": [
    {
     "data": {
      "text/plain": [
       "'Paris'"
      ]
     },
     "execution_count": 27,
     "metadata": {},
     "output_type": "execute_result"
    }
   ],
   "source": [
    "\n",
    "#Practical Answers 25\n",
    "dict2={\"name\":\"Alice\",\"city\":\"Paris\"}\n",
    "dict2.pop(\"city\")"
   ]
  },
  {
   "cell_type": "code",
   "execution_count": 28,
   "id": "a98f0d51-5f8b-43ea-a1bf-946706842b09",
   "metadata": {},
   "outputs": [
    {
     "name": "stdout",
     "output_type": "stream",
     "text": [
      "[1, 2, 3, 4, 5]\n",
      "(1, 2, 3, 4, 5)\n",
      "{1, 2, 10, 'abhishek'}\n"
     ]
    }
   ],
   "source": [
    "\n",
    "#Practical Answers 26\n",
    "my_list=[1,2,3,4,5]\n",
    "print(my_list)\n",
    "my_tuple=(1,2,3,4,5)\n",
    "print(my_tuple)\n",
    "dict4={1,2,10,\"abhishek\"}\n",
    "print(dict4)"
   ]
  },
  {
   "cell_type": "code",
   "execution_count": 29,
   "id": "8a6304cb-1f15-410b-9e2a-32c91d3a067d",
   "metadata": {},
   "outputs": [
    {
     "name": "stdout",
     "output_type": "stream",
     "text": [
      "[20, 30, 40, 50, 60]\n"
     ]
    }
   ],
   "source": [
    "\n",
    "#Practical Answers 27\n",
    "my_list=[50,20,60,40,30]\n",
    "my_list.sort()\n",
    "print(my_list)"
   ]
  },
  {
   "cell_type": "code",
   "execution_count": 30,
   "id": "b7f69a2f-71d1-4191-a0ae-a35293101426",
   "metadata": {},
   "outputs": [
    {
     "name": "stdout",
     "output_type": "stream",
     "text": [
      "[10, 20, 'khare', 30, 'khare']\n"
     ]
    }
   ],
   "source": [
    "\n",
    "#Practical Answers 28\n",
    "list_1=[10,20,50,30,\"khare\"]\n",
    "list_1[2]=\"khare\"\n",
    "print(list_1)"
   ]
  },
  {
   "cell_type": "code",
   "execution_count": 31,
   "id": "ab79c620-2c03-4325-8b91-360e68cc4010",
   "metadata": {},
   "outputs": [
    {
     "name": "stdout",
     "output_type": "stream",
     "text": [
      "{'abhishek', 'rajesh', 'shyam', 40, 10, 'raju', 20, 30}\n"
     ]
    }
   ],
   "source": [
    "\n",
    "#Practical Answers 29\n",
    "dict1={\"abhishek\",\"rajesh\",\"shyam\",10}\n",
    "dict2={10,20,30,40,\"raju\"}\n",
    "dict1.update(dict2)\n",
    "print(dict1)"
   ]
  },
  {
   "cell_type": "code",
   "execution_count": 32,
   "id": "9b8c2dc8-d830-434e-aee3-9f304604e9c3",
   "metadata": {},
   "outputs": [
    {
     "name": "stdout",
     "output_type": "stream",
     "text": [
      "{'abhishek', 'rajesh', 'shyam'}\n"
     ]
    }
   ],
   "source": [
    "\n",
    "#Practical Answers 30\n",
    "dict1=[\"abhishek\",\"rajesh\",\"shyam\"]\n",
    "list_to_set=set(dict1)\n",
    "print(list_to_set)"
   ]
  },
  {
   "cell_type": "code",
   "execution_count": null,
   "id": "15814c34-0fdc-4cbe-9b76-0a123d5bc43e",
   "metadata": {},
   "outputs": [],
   "source": []
  }
 ],
 "metadata": {
  "kernelspec": {
   "display_name": "Python 3 (ipykernel)",
   "language": "python",
   "name": "python3"
  },
  "language_info": {
   "codemirror_mode": {
    "name": "ipython",
    "version": 3
   },
   "file_extension": ".py",
   "mimetype": "text/x-python",
   "name": "python",
   "nbconvert_exporter": "python",
   "pygments_lexer": "ipython3",
   "version": "3.13.3"
  }
 },
 "nbformat": 4,
 "nbformat_minor": 5
}
